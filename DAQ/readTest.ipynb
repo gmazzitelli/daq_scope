{
 "cells": [
  {
   "cell_type": "code",
   "execution_count": 33,
   "metadata": {},
   "outputs": [],
   "source": [
    "import lecroyreader as lcr\n",
    "import matplotlib.pyplot as plt\n",
    "import numpy as np\n"
   ]
  },
  {
   "cell_type": "code",
   "execution_count": 34,
   "metadata": {},
   "outputs": [
    {
     "name": "stdout",
     "output_type": "stream",
     "text": [
      "\u001b[34mAutosave\u001b[m\u001b[m      \u001b[34mAutosave2\u001b[m\u001b[m     \u001b[34mAutosave3\u001b[m\u001b[m     \u001b[34mAutosave4\u001b[m\u001b[m\r\n",
      "Autosave.zip  Autosave2.zip Autosave3.zip Autosave4.zip\r\n"
     ]
    }
   ],
   "source": [
    "!ls /Users/mazzitel/lime/PMT/"
   ]
  },
  {
   "cell_type": "code",
   "execution_count": 35,
   "metadata": {},
   "outputs": [],
   "source": [
    "metadata, trigtimes, data = lcr.read('/Users/mazzitel/lime/PMT/Autosave2/C1--PMT2_1000--00000.trc')"
   ]
  },
  {
   "cell_type": "code",
   "execution_count": 36,
   "metadata": {},
   "outputs": [
    {
     "data": {
      "text/plain": [
       "{'descriptor_name': b'WAVEDESC',\n",
       " 'template_name': b'LECROY_2_3',\n",
       " 'comm_type': 1,\n",
       " 'comm_order': 1,\n",
       " 'wave_descriptor': 346,\n",
       " 'user_text': 0,\n",
       " 'res_desc1': 0,\n",
       " 'trig_time_array': 0,\n",
       " 'ris_time_array': 0,\n",
       " 'res_array1': 0,\n",
       " 'wave_array1': 1004,\n",
       " 'wave_array2': 0,\n",
       " 'res_array2': 0,\n",
       " 'res_array3': 0,\n",
       " 'instrument_name': b'LECROYWS4104HD',\n",
       " 'instrument_number': 18165,\n",
       " 'trace_label': b'',\n",
       " 'reserved1': 502,\n",
       " 'reserved2': 0,\n",
       " 'wave_array_count': 502,\n",
       " 'points_per_screen': 500,\n",
       " 'first_valid_point': 0,\n",
       " 'last_valid_point': 501,\n",
       " 'first_point': 0,\n",
       " 'sparsing_factor': 1,\n",
       " 'segment_index': 0,\n",
       " 'subarray_count': 1,\n",
       " 'sweeps_per_acq': 0,\n",
       " 'points_per_pair': 0,\n",
       " 'pair_offset': 0,\n",
       " 'vertical_gain': 7.352750253630802e-05,\n",
       " 'vertical_offset': -0.0,\n",
       " 'max_value': 26945.0,\n",
       " 'min_value': -27201.0,\n",
       " 'nominal_bits': 12,\n",
       " 'nom_subarray_count': 1,\n",
       " 'horiz_interval': 4.000000053405728e-10,\n",
       " 'horiz_offset': -5.9072400000000016e-08,\n",
       " 'pixel_offset': -5.88e-08,\n",
       " 'vert_unit': b'V',\n",
       " 'horiz_unit': b'S',\n",
       " 'horiz_uncertainty': 7.999999968033578e-11,\n",
       " 'trigger_time': [2021, 2, 23, 20, 53, 57.106324462],\n",
       " 'acq_duration': 0.0,\n",
       " 'record_type': 'single sweep',\n",
       " 'processing_done': 'no processing',\n",
       " 'reserved5': 0,\n",
       " 'ris_sweeps': 1,\n",
       " 'time_base': '20 ns/div',\n",
       " 'vert_coupling': 'DC 50 Ohm',\n",
       " 'probe_att': 1.0,\n",
       " 'fixed_vert_gain': '500 mV/div',\n",
       " 'bandwidth_limit': 1,\n",
       " 'vertical_vernier': 1.0,\n",
       " 'acq_vert_offset': 0.0,\n",
       " 'wave_source': 0}"
      ]
     },
     "execution_count": 36,
     "metadata": {},
     "output_type": "execute_result"
    }
   ],
   "source": [
    "metadata"
   ]
  },
  {
   "cell_type": "code",
   "execution_count": 37,
   "metadata": {},
   "outputs": [
    {
     "data": {
      "text/plain": [
       "(502, '20 ns/div', 4.000000053405728e-10)"
      ]
     },
     "execution_count": 37,
     "metadata": {},
     "output_type": "execute_result"
    }
   ],
   "source": [
    "len(data), metadata[\"time_base\"], metadata['horiz_interval']"
   ]
  },
  {
   "cell_type": "code",
   "execution_count": 42,
   "metadata": {},
   "outputs": [
    {
     "data": {
      "image/png": "[encoded data removed]",
      "text/plain": [
       "<Figure size 432x288 with 1 Axes>"
      ]
     },
     "metadata": {
      "needs_background": "light"
     },
     "output_type": "display_data"
    }
   ],
   "source": [
    "x = np.linspace(0, len(data)*metadata['horiz_interval'], len(data))\n",
    "plt.plot(x[230:350],data[2:350])\n",
    "plt.show()"
   ]
  },
  {
   "cell_type": "code",
   "execution_count": 8,
   "metadata": {},
   "outputs": [
    {
     "data": {
      "text/plain": [
       "4.3496156754408384e-08"
      ]
     },
     "execution_count": 8,
     "metadata": {},
     "output_type": "execute_result"
    }
   ],
   "source": [
    "np.trapz(data, x)"
   ]
  },
  {
   "cell_type": "code",
   "execution_count": 19,
   "metadata": {},
   "outputs": [
    {
     "data": {
      "text/plain": [
       "array([1.20516075, 1.20704305, 1.2061019 , 1.20563133])"
      ]
     },
     "execution_count": 19,
     "metadata": {},
     "output_type": "execute_result"
    }
   ],
   "source": [
    "data[1:5]\n"
   ]
  },
  {
   "cell_type": "code",
   "execution_count": null,
   "metadata": {},
   "outputs": [],
   "source": []
  }
 ],
 "metadata": {
  "kernelspec": {
   "display_name": "Python 3 (ipykernel)",
   "language": "python",
   "name": "python3"
  },
  "language_info": {
   "codemirror_mode": {
    "name": "ipython",
    "version": 3
   },
   "file_extension": ".py",
   "mimetype": "text/x-python",
   "name": "python",
   "nbconvert_exporter": "python",
   "pygments_lexer": "ipython3",
   "version": "3.11.7"
  }
 },
 "nbformat": 4,
 "nbformat_minor": 2
}
