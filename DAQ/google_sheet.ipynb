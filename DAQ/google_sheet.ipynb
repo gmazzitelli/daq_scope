{
 "cells": [
  {
   "cell_type": "code",
   "execution_count": 2,
   "id": "4e7a7d47-5106-46ef-a9da-661ce56b82df",
   "metadata": {},
   "outputs": [],
   "source": [
    "# come fare:\n",
    "# https://medium.com/@alestamm/automating-reports-with-google-sheets-jupyter-notebook-connection-8f9cfa5e8588\n",
    "# dare l'accesso come editor alla mail iot-jupyter-notebook@iot-jupyter-notebook.iam.gserviceaccount.com\n",
    "#\n",
    "import pandas as pd\n",
    "import gspread\n",
    "from google.oauth2 import service_account\n",
    "import json\n",
    "credentials = service_account.Credentials.from_service_account_file(\n",
    "    '../.google_credentials.json')"
   ]
  },
  {
   "cell_type": "code",
   "execution_count": 3,
   "id": "d641bad4-9af6-4540-95f5-0eca4e8d7b1c",
   "metadata": {},
   "outputs": [],
   "source": [
    "scope = ['https://spreadsheets.google.com/feeds']\n",
    "creds_scope = credentials.with_scopes(scope)\n",
    "client = gspread.authorize(creds_scope)"
   ]
  },
  {
   "cell_type": "code",
   "execution_count": 4,
   "id": "d45aeb5a-3d8f-4c91-bb25-589d08294799",
   "metadata": {},
   "outputs": [],
   "source": [
    "sheet = client.open_by_key('1idBnsYG4pHdHZ2kDbq-S3PBUAf0ewFEzKXOtCTGDxyU')"
   ]
  },
  {
   "cell_type": "code",
   "execution_count": 6,
   "id": "7ee969eb-d235-4eb8-979b-41ce5400b278",
   "metadata": {},
   "outputs": [],
   "source": [
    "sd5 = sheet.worksheet(\"log\")"
   ]
  },
  {
   "cell_type": "code",
   "execution_count": 19,
   "id": "0537d0d9-688d-45fd-bd5a-7417d3c1b655",
   "metadata": {},
   "outputs": [
    {
     "ename": "APIError",
     "evalue": "APIError: [400]: Invalid value at 'data.values' (type.googleapis.com/google.protobuf.ListValue), \"G2\"",
     "output_type": "error",
     "traceback": [
      "\u001b[0;31m---------------------------------------------------------------------------\u001b[0m",
      "\u001b[0;31mAPIError\u001b[0m                                  Traceback (most recent call last)",
      "Cell \u001b[0;32mIn[19], line 3\u001b[0m\n\u001b[1;32m      1\u001b[0m \u001b[38;5;66;03m# esempio di update\u001b[39;00m\n\u001b[1;32m      2\u001b[0m \u001b[38;5;66;03m# https://docs.gspread.org/en/v6.0.0/\u001b[39;00m\n\u001b[0;32m----> 3\u001b[0m \u001b[43msd5\u001b[49m\u001b[38;5;241;43m.\u001b[39;49m\u001b[43mupdate\u001b[49m\u001b[43m(\u001b[49m\u001b[38;5;124;43m'\u001b[39;49m\u001b[38;5;124;43mG2\u001b[39;49m\u001b[38;5;124;43m'\u001b[39;49m\u001b[43m,\u001b[49m\u001b[43m \u001b[49m\u001b[38;5;124;43m\"\u001b[39;49m\u001b[38;5;124;43m101\u001b[39;49m\u001b[38;5;124;43m\"\u001b[39;49m\u001b[43m)\u001b[49m\n",
      "File \u001b[0;32m/usr/local/lib/python3.11/site-packages/gspread/worksheet.py:1239\u001b[0m, in \u001b[0;36mWorksheet.update\u001b[0;34m(self, values, range_name, raw, major_dimension, value_input_option, include_values_in_response, response_value_render_option, response_date_time_render_option)\u001b[0m\n\u001b[1;32m   1228\u001b[0m     value_input_option \u001b[38;5;241m=\u001b[39m (\n\u001b[1;32m   1229\u001b[0m         ValueInputOption\u001b[38;5;241m.\u001b[39mraw \u001b[38;5;28;01mif\u001b[39;00m raw \u001b[38;5;129;01mis\u001b[39;00m \u001b[38;5;28;01mTrue\u001b[39;00m \u001b[38;5;28;01melse\u001b[39;00m ValueInputOption\u001b[38;5;241m.\u001b[39muser_entered\n\u001b[1;32m   1230\u001b[0m     )\n\u001b[1;32m   1232\u001b[0m params: ParamsType \u001b[38;5;241m=\u001b[39m {\n\u001b[1;32m   1233\u001b[0m     \u001b[38;5;124m\"\u001b[39m\u001b[38;5;124mvalueInputOption\u001b[39m\u001b[38;5;124m\"\u001b[39m: value_input_option,\n\u001b[1;32m   1234\u001b[0m     \u001b[38;5;124m\"\u001b[39m\u001b[38;5;124mincludeValuesInResponse\u001b[39m\u001b[38;5;124m\"\u001b[39m: include_values_in_response,\n\u001b[1;32m   1235\u001b[0m     \u001b[38;5;124m\"\u001b[39m\u001b[38;5;124mresponseValueRenderOption\u001b[39m\u001b[38;5;124m\"\u001b[39m: response_value_render_option,\n\u001b[1;32m   1236\u001b[0m     \u001b[38;5;124m\"\u001b[39m\u001b[38;5;124mresponseDateTimeRenderOption\u001b[39m\u001b[38;5;124m\"\u001b[39m: response_date_time_render_option,\n\u001b[1;32m   1237\u001b[0m }\n\u001b[0;32m-> 1239\u001b[0m response \u001b[38;5;241m=\u001b[39m \u001b[38;5;28;43mself\u001b[39;49m\u001b[38;5;241;43m.\u001b[39;49m\u001b[43mclient\u001b[49m\u001b[38;5;241;43m.\u001b[39;49m\u001b[43mvalues_update\u001b[49m\u001b[43m(\u001b[49m\n\u001b[1;32m   1240\u001b[0m \u001b[43m    \u001b[49m\u001b[38;5;28;43mself\u001b[39;49m\u001b[38;5;241;43m.\u001b[39;49m\u001b[43mspreadsheet_id\u001b[49m\u001b[43m,\u001b[49m\n\u001b[1;32m   1241\u001b[0m \u001b[43m    \u001b[49m\u001b[43mfull_range_name\u001b[49m\u001b[43m,\u001b[49m\n\u001b[1;32m   1242\u001b[0m \u001b[43m    \u001b[49m\u001b[43mparams\u001b[49m\u001b[38;5;241;43m=\u001b[39;49m\u001b[43mparams\u001b[49m\u001b[43m,\u001b[49m\n\u001b[1;32m   1243\u001b[0m \u001b[43m    \u001b[49m\u001b[43mbody\u001b[49m\u001b[38;5;241;43m=\u001b[39;49m\u001b[43m{\u001b[49m\u001b[38;5;124;43m\"\u001b[39;49m\u001b[38;5;124;43mvalues\u001b[39;49m\u001b[38;5;124;43m\"\u001b[39;49m\u001b[43m:\u001b[49m\u001b[43m \u001b[49m\u001b[43mvalues\u001b[49m\u001b[43m,\u001b[49m\u001b[43m \u001b[49m\u001b[38;5;124;43m\"\u001b[39;49m\u001b[38;5;124;43mmajorDimension\u001b[39;49m\u001b[38;5;124;43m\"\u001b[39;49m\u001b[43m:\u001b[49m\u001b[43m \u001b[49m\u001b[43mmajor_dimension\u001b[49m\u001b[43m}\u001b[49m\u001b[43m,\u001b[49m\n\u001b[1;32m   1244\u001b[0m \u001b[43m\u001b[49m\u001b[43m)\u001b[49m\n\u001b[1;32m   1246\u001b[0m \u001b[38;5;28;01mreturn\u001b[39;00m response\n",
      "File \u001b[0;32m/usr/local/lib/python3.11/site-packages/gspread/http_client.py:173\u001b[0m, in \u001b[0;36mHTTPClient.values_update\u001b[0;34m(self, id, range, params, body)\u001b[0m\n\u001b[1;32m    150\u001b[0m \u001b[38;5;250m\u001b[39m\u001b[38;5;124;03m\"\"\"Lower-level method that directly calls `PUT spreadsheets/<ID>/values/<range> <https://developers.google.com/sheets/api/reference/rest/v4/spreadsheets.values/update>`_.\u001b[39;00m\n\u001b[1;32m    151\u001b[0m \n\u001b[1;32m    152\u001b[0m \u001b[38;5;124;03m:param str range: The `A1 notation <https://developers.google.com/sheets/api/guides/concepts#a1_notation>`_ of the values to update.\u001b[39;00m\n\u001b[0;32m   (...)\u001b[0m\n\u001b[1;32m    170\u001b[0m \u001b[38;5;124;03m.. versionadded:: 3.0\u001b[39;00m\n\u001b[1;32m    171\u001b[0m \u001b[38;5;124;03m\"\"\"\u001b[39;00m\n\u001b[1;32m    172\u001b[0m url \u001b[38;5;241m=\u001b[39m SPREADSHEET_VALUES_URL \u001b[38;5;241m%\u001b[39m (\u001b[38;5;28mid\u001b[39m, quote(\u001b[38;5;28mrange\u001b[39m))\n\u001b[0;32m--> 173\u001b[0m r \u001b[38;5;241m=\u001b[39m \u001b[38;5;28;43mself\u001b[39;49m\u001b[38;5;241;43m.\u001b[39;49m\u001b[43mrequest\u001b[49m\u001b[43m(\u001b[49m\u001b[38;5;124;43m\"\u001b[39;49m\u001b[38;5;124;43mput\u001b[39;49m\u001b[38;5;124;43m\"\u001b[39;49m\u001b[43m,\u001b[49m\u001b[43m \u001b[49m\u001b[43murl\u001b[49m\u001b[43m,\u001b[49m\u001b[43m \u001b[49m\u001b[43mparams\u001b[49m\u001b[38;5;241;43m=\u001b[39;49m\u001b[43mparams\u001b[49m\u001b[43m,\u001b[49m\u001b[43m \u001b[49m\u001b[43mjson\u001b[49m\u001b[38;5;241;43m=\u001b[39;49m\u001b[43mbody\u001b[49m\u001b[43m)\u001b[49m\n\u001b[1;32m    174\u001b[0m \u001b[38;5;28;01mreturn\u001b[39;00m r\u001b[38;5;241m.\u001b[39mjson()\n",
      "File \u001b[0;32m/usr/local/lib/python3.11/site-packages/gspread/http_client.py:128\u001b[0m, in \u001b[0;36mHTTPClient.request\u001b[0;34m(self, method, endpoint, params, data, json, files, headers)\u001b[0m\n\u001b[1;32m    126\u001b[0m     \u001b[38;5;28;01mreturn\u001b[39;00m response\n\u001b[1;32m    127\u001b[0m \u001b[38;5;28;01melse\u001b[39;00m:\n\u001b[0;32m--> 128\u001b[0m     \u001b[38;5;28;01mraise\u001b[39;00m APIError(response)\n",
      "\u001b[0;31mAPIError\u001b[0m: APIError: [400]: Invalid value at 'data.values' (type.googleapis.com/google.protobuf.ListValue), \"G2\""
     ]
    }
   ],
   "source": [
    "# esempio di update\n",
    "# https://docs.gspread.org/en/v6.0.0/\n",
    "sd5.update('G2', \"101\")"
   ]
  },
  {
   "cell_type": "code",
   "execution_count": 18,
   "id": "df88c9c9-b91a-4a84-a1e2-a5e444b08549",
   "metadata": {},
   "outputs": [
    {
     "data": {
      "text/plain": [
       "{'spreadsheetId': '1idBnsYG4pHdHZ2kDbq-S3PBUAf0ewFEzKXOtCTGDxyU',\n",
       " 'updatedRange': 'log!G2',\n",
       " 'updatedRows': 1,\n",
       " 'updatedColumns': 1,\n",
       " 'updatedCells': 1}"
      ]
     },
     "execution_count": 18,
     "metadata": {},
     "output_type": "execute_result"
    }
   ],
   "source": [
    "sd5.update_cell(2, 7, 'Ciao!')"
   ]
  },
  {
   "cell_type": "code",
   "execution_count": 13,
   "id": "90a10d25-30ae-4f56-8e60-7c905352ce27",
   "metadata": {},
   "outputs": [],
   "source": [
    "d5=pd.DataFrame.from_dict(sd5.get_all_records())"
   ]
  },
  {
   "cell_type": "code",
   "execution_count": 14,
   "id": "462b0e03-9e5f-4104-a3a9-123f2ba2166f",
   "metadata": {},
   "outputs": [
    {
     "data": {
      "text/html": [
       "<div>\n",
       "<style scoped>\n",
       "    .dataframe tbody tr th:only-of-type {\n",
       "        vertical-align: middle;\n",
       "    }\n",
       "\n",
       "    .dataframe tbody tr th {\n",
       "        vertical-align: top;\n",
       "    }\n",
       "\n",
       "    .dataframe thead th {\n",
       "        text-align: right;\n",
       "    }\n",
       "</style>\n",
       "<table border=\"1\" class=\"dataframe\">\n",
       "  <thead>\n",
       "    <tr style=\"text-align: right;\">\n",
       "      <th></th>\n",
       "      <th>run</th>\n",
       "      <th>start</th>\n",
       "      <th>end</th>\n",
       "      <th>events</th>\n",
       "    </tr>\n",
       "  </thead>\n",
       "  <tbody>\n",
       "    <tr>\n",
       "      <th>0</th>\n",
       "      <td>0</td>\n",
       "      <td>0</td>\n",
       "      <td>10</td>\n",
       "      <td>100</td>\n",
       "    </tr>\n",
       "  </tbody>\n",
       "</table>\n",
       "</div>"
      ],
      "text/plain": [
       "   run  start  end  events\n",
       "0    0      0   10     100"
      ]
     },
     "execution_count": 14,
     "metadata": {},
     "output_type": "execute_result"
    }
   ],
   "source": [
    "d5"
   ]
  },
  {
   "cell_type": "code",
   "execution_count": 31,
   "id": "d6973d5b-5125-492d-a688-a9e5d2859497",
   "metadata": {},
   "outputs": [],
   "source": [
    "# esempio di update\n",
    "d5.iat[0, 6]='ciao'"
   ]
  },
  {
   "cell_type": "code",
   "execution_count": 33,
   "id": "056d2104-3b7a-4a7a-b428-35b63b741653",
   "metadata": {},
   "outputs": [
    {
     "data": {
      "text/html": [
       "<div>\n",
       "<style scoped>\n",
       "    .dataframe tbody tr th:only-of-type {\n",
       "        vertical-align: middle;\n",
       "    }\n",
       "\n",
       "    .dataframe tbody tr th {\n",
       "        vertical-align: top;\n",
       "    }\n",
       "\n",
       "    .dataframe thead th {\n",
       "        text-align: right;\n",
       "    }\n",
       "</style>\n",
       "<table border=\"1\" class=\"dataframe\">\n",
       "  <thead>\n",
       "    <tr style=\"text-align: right;\">\n",
       "      <th></th>\n",
       "      <th>TESTO DELLA DOMANDA</th>\n",
       "      <th>RISPOSTA 1</th>\n",
       "      <th>RISPOSTA 2</th>\n",
       "      <th>RISPOSTA 3</th>\n",
       "      <th>RISPOSTA 4</th>\n",
       "      <th>RISPOSTA 5</th>\n",
       "      <th>RISPOSTA 6</th>\n",
       "      <th>PROGRESSIVO DOMANDA</th>\n",
       "      <th>TIPOLOGIA</th>\n",
       "      <th>SETTORE</th>\n",
       "      <th>ARGOMENTO</th>\n",
       "    </tr>\n",
       "  </thead>\n",
       "  <tbody>\n",
       "    <tr>\n",
       "      <th>0</th>\n",
       "      <td>L’imbarcazione “Daphne” si trova sul punto A d...</td>\n",
       "      <td>Vp = 9  ÷ 11 kn</td>\n",
       "      <td>ciao</td>\n",
       "      <td></td>\n",
       "      <td></td>\n",
       "      <td></td>\n",
       "      <td></td>\n",
       "      <td>5.1.1 - 1</td>\n",
       "      <td>C</td>\n",
       "      <td>A</td>\n",
       "      <td>correnti</td>\n",
       "    </tr>\n",
       "    <tr>\n",
       "      <th>1</th>\n",
       "      <td>L’imbarcazione “Fru Fru” è in navigazione a la...</td>\n",
       "      <td>Dc = 221° ÷ 227°</td>\n",
       "      <td></td>\n",
       "      <td></td>\n",
       "      <td></td>\n",
       "      <td></td>\n",
       "      <td></td>\n",
       "      <td>5.1.1 - 2</td>\n",
       "      <td>C</td>\n",
       "      <td>A</td>\n",
       "      <td>correnti</td>\n",
       "    </tr>\n",
       "    <tr>\n",
       "      <th>2</th>\n",
       "      <td>L’imbarcazione “Europa” naviga da 1h15m a Nord...</td>\n",
       "      <td>Tempo di navigazione 1h14m  ÷ 1h20m</td>\n",
       "      <td></td>\n",
       "      <td></td>\n",
       "      <td></td>\n",
       "      <td></td>\n",
       "      <td></td>\n",
       "      <td>5.1.1 - 3</td>\n",
       "      <td>C</td>\n",
       "      <td>A</td>\n",
       "      <td>correnti</td>\n",
       "    </tr>\n",
       "    <tr>\n",
       "      <th>3</th>\n",
       "      <td>Alle ore 08h30m l’imbarcazione “Italia” sta na...</td>\n",
       "      <td>Dc = 027° ÷ 033°</td>\n",
       "      <td></td>\n",
       "      <td></td>\n",
       "      <td></td>\n",
       "      <td></td>\n",
       "      <td></td>\n",
       "      <td>5.1.1 - 4</td>\n",
       "      <td>C</td>\n",
       "      <td>A</td>\n",
       "      <td>correnti</td>\n",
       "    </tr>\n",
       "    <tr>\n",
       "      <th>4</th>\n",
       "      <td>Alle ore 08h00m l’imbarcazione “Nausicaa” si  ...</td>\n",
       "      <td>Dc = 288° ÷ 294°</td>\n",
       "      <td></td>\n",
       "      <td></td>\n",
       "      <td></td>\n",
       "      <td></td>\n",
       "      <td></td>\n",
       "      <td>5.1.1 - 5</td>\n",
       "      <td>C</td>\n",
       "      <td>A</td>\n",
       "      <td>correnti</td>\n",
       "    </tr>\n",
       "    <tr>\n",
       "      <th>...</th>\n",
       "      <td>...</td>\n",
       "      <td>...</td>\n",
       "      <td>...</td>\n",
       "      <td>...</td>\n",
       "      <td>...</td>\n",
       "      <td>...</td>\n",
       "      <td>...</td>\n",
       "      <td>...</td>\n",
       "      <td>...</td>\n",
       "      <td>...</td>\n",
       "      <td>...</td>\n",
       "    </tr>\n",
       "    <tr>\n",
       "      <th>103</th>\n",
       "      <td>Stiamo navigando con rotta vera Rv = 313° e al...</td>\n",
       "      <td>Lat. 42°24’,1 N ÷ 42°24’,7 N   Long.\\n010°54’,...</td>\n",
       "      <td></td>\n",
       "      <td></td>\n",
       "      <td></td>\n",
       "      <td></td>\n",
       "      <td></td>\n",
       "      <td>5.4.4 - 1</td>\n",
       "      <td>C</td>\n",
       "      <td>D</td>\n",
       "      <td>scarroccio</td>\n",
       "    </tr>\n",
       "    <tr>\n",
       "      <th>104</th>\n",
       "      <td>Stiamo navigando a sud delle Formiche di Gross...</td>\n",
       "      <td>Lat. 42°33’,0  N ÷ 42°33’,6 N    Long.\\n010°54...</td>\n",
       "      <td></td>\n",
       "      <td></td>\n",
       "      <td></td>\n",
       "      <td></td>\n",
       "      <td></td>\n",
       "      <td>5.4.4 - 2</td>\n",
       "      <td>C</td>\n",
       "      <td>D</td>\n",
       "      <td>scarroccio</td>\n",
       "    </tr>\n",
       "    <tr>\n",
       "      <th>105</th>\n",
       "      <td>Ci troviamo alle ore 15h30m sul punto A di coo...</td>\n",
       "      <td>Vp = 6,5 ÷7,5 kn</td>\n",
       "      <td></td>\n",
       "      <td></td>\n",
       "      <td></td>\n",
       "      <td></td>\n",
       "      <td></td>\n",
       "      <td>5.4.4 - 3</td>\n",
       "      <td>C</td>\n",
       "      <td>D</td>\n",
       "      <td>scarroccio</td>\n",
       "    </tr>\n",
       "    <tr>\n",
       "      <th>106</th>\n",
       "      <td>Dal punto nave A situato 1,5 miglia nautiche s...</td>\n",
       "      <td>Lat. 42° 26',9 N ÷\\n42°27’,5 N   Long. 010°\\n5...</td>\n",
       "      <td></td>\n",
       "      <td></td>\n",
       "      <td></td>\n",
       "      <td></td>\n",
       "      <td></td>\n",
       "      <td>5.4.4 - 4</td>\n",
       "      <td>C</td>\n",
       "      <td>D</td>\n",
       "      <td>scarroccio</td>\n",
       "    </tr>\n",
       "    <tr>\n",
       "      <th>107</th>\n",
       "      <td>Dal punto nave A situato a una distanza di 1,5...</td>\n",
       "      <td>Lat. 42° 32',3 N ÷\\n42°32’,9 N   Long. 011°\\n0...</td>\n",
       "      <td></td>\n",
       "      <td></td>\n",
       "      <td></td>\n",
       "      <td></td>\n",
       "      <td></td>\n",
       "      <td>5.4.4 - 5</td>\n",
       "      <td>C</td>\n",
       "      <td>D</td>\n",
       "      <td>scarroccio</td>\n",
       "    </tr>\n",
       "  </tbody>\n",
       "</table>\n",
       "<p>108 rows × 11 columns</p>\n",
       "</div>"
      ],
      "text/plain": [
       "                                   TESTO DELLA DOMANDA  \\\n",
       "0    L’imbarcazione “Daphne” si trova sul punto A d...   \n",
       "1    L’imbarcazione “Fru Fru” è in navigazione a la...   \n",
       "2    L’imbarcazione “Europa” naviga da 1h15m a Nord...   \n",
       "3    Alle ore 08h30m l’imbarcazione “Italia” sta na...   \n",
       "4    Alle ore 08h00m l’imbarcazione “Nausicaa” si  ...   \n",
       "..                                                 ...   \n",
       "103  Stiamo navigando con rotta vera Rv = 313° e al...   \n",
       "104  Stiamo navigando a sud delle Formiche di Gross...   \n",
       "105  Ci troviamo alle ore 15h30m sul punto A di coo...   \n",
       "106  Dal punto nave A situato 1,5 miglia nautiche s...   \n",
       "107  Dal punto nave A situato a una distanza di 1,5...   \n",
       "\n",
       "                                            RISPOSTA 1 RISPOSTA 2 RISPOSTA 3  \\\n",
       "0                                      Vp = 9  ÷ 11 kn       ciao              \n",
       "1                                     Dc = 221° ÷ 227°                         \n",
       "2                  Tempo di navigazione 1h14m  ÷ 1h20m                         \n",
       "3                                     Dc = 027° ÷ 033°                         \n",
       "4                                     Dc = 288° ÷ 294°                         \n",
       "..                                                 ...        ...        ...   \n",
       "103  Lat. 42°24’,1 N ÷ 42°24’,7 N   Long.\\n010°54’,...                         \n",
       "104  Lat. 42°33’,0  N ÷ 42°33’,6 N    Long.\\n010°54...                         \n",
       "105                                   Vp = 6,5 ÷7,5 kn                         \n",
       "106  Lat. 42° 26',9 N ÷\\n42°27’,5 N   Long. 010°\\n5...                         \n",
       "107  Lat. 42° 32',3 N ÷\\n42°32’,9 N   Long. 011°\\n0...                         \n",
       "\n",
       "    RISPOSTA 4 RISPOSTA 5 RISPOSTA 6 PROGRESSIVO DOMANDA TIPOLOGIA SETTORE  \\\n",
       "0                                              5.1.1 - 1         C       A   \n",
       "1                                              5.1.1 - 2         C       A   \n",
       "2                                              5.1.1 - 3         C       A   \n",
       "3                                              5.1.1 - 4         C       A   \n",
       "4                                              5.1.1 - 5         C       A   \n",
       "..         ...        ...        ...                 ...       ...     ...   \n",
       "103                                            5.4.4 - 1         C       D   \n",
       "104                                            5.4.4 - 2         C       D   \n",
       "105                                            5.4.4 - 3         C       D   \n",
       "106                                            5.4.4 - 4         C       D   \n",
       "107                                            5.4.4 - 5         C       D   \n",
       "\n",
       "      ARGOMENTO  \n",
       "0      correnti  \n",
       "1      correnti  \n",
       "2      correnti  \n",
       "3      correnti  \n",
       "4      correnti  \n",
       "..          ...  \n",
       "103  scarroccio  \n",
       "104  scarroccio  \n",
       "105  scarroccio  \n",
       "106  scarroccio  \n",
       "107  scarroccio  \n",
       "\n",
       "[108 rows x 11 columns]"
      ]
     },
     "execution_count": 33,
     "metadata": {},
     "output_type": "execute_result"
    }
   ],
   "source": [
    "d5"
   ]
  },
  {
   "cell_type": "code",
   "execution_count": 34,
   "id": "074a4b46-46aa-4f77-b4bd-c4e17ec9756e",
   "metadata": {},
   "outputs": [
    {
     "data": {
      "text/plain": [
       "{'spreadsheetId': '1SUHVbmaA8sUDcHGr0fjH7p_3QNj7F5tWXBtukodj3aw',\n",
       " 'updatedRange': 'Sheet1!A1:K109',\n",
       " 'updatedRows': 109,\n",
       " 'updatedColumns': 11,\n",
       " 'updatedCells': 1199}"
      ]
     },
     "execution_count": 34,
     "metadata": {},
     "output_type": "execute_result"
    }
   ],
   "source": [
    "# update di tutti i valori\n",
    "sd5.update([d5.columns.values.tolist()] + d5.values.tolist())"
   ]
  },
  {
   "cell_type": "code",
   "execution_count": null,
   "id": "1efd499f-6c61-422b-b186-89ab21203506",
   "metadata": {},
   "outputs": [],
   "source": []
  }
 ],
 "metadata": {
  "kernelspec": {
   "display_name": "Python 3 (ipykernel)",
   "language": "python",
   "name": "python3"
  },
  "language_info": {
   "codemirror_mode": {
    "name": "ipython",
    "version": 3
   },
   "file_extension": ".py",
   "mimetype": "text/x-python",
   "name": "python",
   "nbconvert_exporter": "python",
   "pygments_lexer": "ipython3",
   "version": "3.11.7"
  }
 },
 "nbformat": 4,
 "nbformat_minor": 5
}
